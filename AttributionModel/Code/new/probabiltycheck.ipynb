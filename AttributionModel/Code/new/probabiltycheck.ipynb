{
 "cells": [
  {
   "cell_type": "code",
   "execution_count": null,
   "metadata": {},
   "outputs": [],
   "source": [
    "import luigi\n",
    "import pandas as pd\n",
    "import numpy as np\n",
    "import os\n",
    "class ad_probabilities(luigi.Task):\n",
    "    def run(self):\n",
    "        file = pd.read_csv('/Users/emmanuels/Desktop/Attribution/finalcleanattributiondata.csv')\n",
    "        #count occurences of each sequence of transitions\n",
    "        grouped = (file\n",
    "                  .sort_values(by='ts')\n",
    "                  .dropna()\n",
    "                  .groupby('anonymous_id').utm_source\n",
    "                  .agg(list)\n",
    "                  .reset_index()\n",
    "                  )\n",
    "        grouped['transitions'] = grouped.utm_source.apply(lambda x: list(zip(x,x[1:])) if len(x) > 1 else list(x))\n",
    "        all_transitions = Counter(chain(*grouped.transitions.tolist()))\n",
    "        transitions = pd.DataFrame.from_dict(all_transitions,orient='index').reset_index()"
   ]
  },
  {
   "cell_type": "code",
   "execution_count": null,
   "metadata": {},
   "outputs": [],
   "source": [
    "class state_to_state(luigi.Task):\n",
    "    first_file = luigi.Parameter()\n",
    "    second_file = luigi.Parameter()\n",
    "    def run(self):\n",
    "        first = pd.read_csv(self.first_file)\n",
    "        second = pd.read_csv(self.second_file)\n",
    "        first['probability'] = self.first.anonymous_id.isin(self.second.anonymous_id).astype(int)\n",
    "        state_to_state = first[['anonymous_id','probability']].to_csv('/Users/emmanuels/Documents/GitHub/Springboard-DSC/Springboard-DSC/Capstone 1 - Attribution Model/Data/Probabilities/'+str(self.first.split('/')[9][:-4]+'to'+self.second.split('/')[9][:-4]+'.csv'))\n",
    "    def requires(self):\n",
    "        return []\n",
    "    def output(self):\n",
    "        return luigi.LocalTarget('/Users/emmanuels/Documents/GitHub/Springboard-DSC/Springboard-DSC/Capstone 1 - Attribution Model/Data/Probabilities/'+str(self.first.split('/')[9][:-4]+'to'+self.second.split('/')[9][:-4]+'.csv')        "
   ]
  },
  {
   "cell_type": "code",
   "execution_count": 24,
   "metadata": {},
   "outputs": [],
   "source": [
    "class wrapper(luigi.WrapperTask):\n",
    "    def requires(self):\n",
    "        files = ['Session.csv','lead.csv','opportunity.csv','complete.csv']\n",
    "        first_task = []\n",
    "        second_task = []\n",
    "        for i in range(1,len(files)):\n",
    "            file_path = '/Users/emmanuels/Documents/GitHub/Springboard-DSC/Springboard-DSC/Capstone 1 - Attribution Model/Data/'\n",
    "            first = file_path+str(files[i-1])\n",
    "            second = file_path+str(files[i])\n",
    "            first_task.append(state_to_state(first_file = first))\n",
    "            file_two.append(state_to_state(second_file = second))\n",
    "            return first_task, second_task\n",
    "    def run(self):\n",
    "        print('Wrapper is complete')\n",
    "        pd.DataFrame().to_csv('/Users/emmanuels/Documents/GitHub/Springboard-DSC/Springboard-DSC/Capstone 1 - Attribution Model/Data/datawranglerwrapper2.csv')\n",
    "    def output(self):\n",
    "        return luigi.LocalTarget('/Users/emmanuels/Documents/GitHub/Springboard-DSC/Springboard-DSC/Capstone 1 - Attribution Model/Data/datawranglerwrapper2.csv')\n",
    "\n",
    "if __name__ == '__main__':\n",
    "    luigi.build([wrapper()],workers=8,local_scheduler=True)"
   ]
  }
 ],
 "metadata": {
  "kernelspec": {
   "display_name": "Python 3",
   "language": "python",
   "name": "python3"
  },
  "language_info": {
   "codemirror_mode": {
    "name": "ipython",
    "version": 3
   },
   "file_extension": ".py",
   "mimetype": "text/x-python",
   "name": "python",
   "nbconvert_exporter": "python",
   "pygments_lexer": "ipython3",
   "version": "3.7.3"
  }
 },
 "nbformat": 4,
 "nbformat_minor": 2
}
