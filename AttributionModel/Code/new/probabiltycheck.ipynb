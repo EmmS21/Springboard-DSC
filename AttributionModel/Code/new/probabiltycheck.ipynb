{
 "cells": [
  {
   "cell_type": "code",
   "execution_count": null,
   "metadata": {},
   "outputs": [],
   "source": [
    "import luigi\n",
    "import pandas as pd\n",
    "import numpy as np\n",
    "import os\n",
    "class ad_probabilities(luigi.Task):\n",
    "    def run(self):\n",
    "        file = pd.read_csv('/Users/emmanuels/Desktop/Attribution/finalcleanattributiondata.csv')\n",
    "        #count occurences of each sequence of transitions\n",
    "        grouped = (file\n",
    "                  .sort_values(by='ts')\n",
    "                  .dropna()\n",
    "                  .groupby('anonymous_id').utm_source\n",
    "                  .agg(list)\n",
    "                  .reset_index()\n",
    "                  )\n",
    "        grouped['transitions'] = grouped.utm_source.apply(lambda x: list(zip(x,x[1:])) if len(x) > 1 else list(x))\n",
    "        all_transitions = Counter(chain(*grouped.transitions.tolist()))\n",
    "        transitions = pd.DataFrame.from_dict(all_transitions,orient='index').reset_index()"
   ]
  },
  {
   "cell_type": "code",
   "execution_count": null,
   "metadata": {},
   "outputs": [],
   "source": [
    "class state_to_state(luigi.Task):\n",
    "    first_file = luigi.Parameter()\n",
    "    second_file = luigi.Parameter()\n",
    "    def run(self):\n",
    "        first = pd.read_csv(self.first_file)\n",
    "        second = pd.read_csv(self.second_file)\n",
    "        first['probability'] = self.first.anonymous_id.isin(self.second.anonymous_id).astype(int)\n",
    "        state_to_state = first[['anonymous_id','probability']].to_csv('/Users/emmanuels/Documents/GitHub/Springboard-DSC/Springboard-DSC/Capstone 1 - Attribution Model/Data/Probabilities/'+str(self.first.split('/')[9][:-4]+'to'+self.second.split('/')[9][:-4]+'.csv'))\n",
    "    def requires(self):\n",
    "        return []\n",
    "    def output(self):\n",
    "        return luigi.LocalTarget('/Users/emmanuels/Documents/GitHub/Springboard-DSC/Springboard-DSC/Capstone 1 - Attribution Model/Data/Probabilities/'+str(self.first.split('/')[9][:-4]+'to'+self.second.split('/')[9][:-4]+'.csv')        "
   ]
  },
  {
   "cell_type": "code",
   "execution_count": 24,
   "metadata": {},
   "outputs": [],
   "source": [
    "class wrapper(luigi.WrapperTask):\n",
    "    def requires(self):\n",
    "        files = ['Session.csv','lead.csv','opportunity.csv','complete.csv']\n",
    "        first_task = []\n",
    "        second_task = []\n",
    "        for i in range(1,len(files)):\n",
    "            file_path = '/Users/emmanuels/Documents/GitHub/Springboard-DSC/Springboard-DSC/Capstone 1 - Attribution Model/Data/'\n",
    "            first = file_path+str(files[i-1])\n",
    "            second = file_path+str(files[i])\n",
    "            first_task.append(state_to_state(first_file = first))\n",
    "            file_two.append(state_to_state(second_file = second))\n",
    "            return first_task, second_task\n",
    "    def run(self):\n",
    "        print('Wrapper is complete')\n",
    "        pd.DataFrame().to_csv('/Users/emmanuels/Documents/GitHub/Springboard-DSC/Springboard-DSC/Capstone 1 - Attribution Model/Data/datawranglerwrapper2.csv')\n",
    "    def output(self):\n",
    "        return luigi.LocalTarget('/Users/emmanuels/Documents/GitHub/Springboard-DSC/Springboard-DSC/Capstone 1 - Attribution Model/Data/datawranglerwrapper2.csv')\n",
    "\n",
    "if __name__ == '__main__':\n",
    "    luigi.build([wrapper()],workers=8,local_scheduler=True)"
   ]
  },
  {
   "cell_type": "code",
   "execution_count": 16,
   "metadata": {},
   "outputs": [
    {
     "ename": "SyntaxError",
     "evalue": "invalid syntax (<ipython-input-16-8314af0d06d2>, line 1)",
     "output_type": "error",
     "traceback": [
      "\u001b[0;36m  File \u001b[0;32m\"<ipython-input-16-8314af0d06d2>\"\u001b[0;36m, line \u001b[0;32m1\u001b[0m\n\u001b[0;31m    a = lambda x: print(x > random.uniform(0,1)) if x == True\u001b[0m\n\u001b[0m                                                             ^\u001b[0m\n\u001b[0;31mSyntaxError\u001b[0m\u001b[0;31m:\u001b[0m invalid syntax\n"
     ]
    }
   ],
   "source": [
    "a = lambda x: print(x > random.uniform(0,1)) if x == True"
   ]
  },
  {
   "cell_type": "code",
   "execution_count": 60,
   "metadata": {},
   "outputs": [],
   "source": [
    "a = '/Users/emmanuels/Documents/AttributionData/Data/Probabilities/Sessiontolead.csv'"
   ]
  },
  {
   "cell_type": "code",
   "execution_count": 65,
   "metadata": {},
   "outputs": [
    {
     "data": {
      "text/plain": [
       "'Probabili'"
      ]
     },
     "execution_count": 65,
     "metadata": {},
     "output_type": "execute_result"
    }
   ],
   "source": [
    "a.split('/')[6][:-4]"
   ]
  },
  {
   "cell_type": "code",
   "execution_count": 58,
   "metadata": {},
   "outputs": [],
   "source": [
    "results = dict(a2b=func(obs))\n",
    "results['b2c']=func(results['a2b'])\n",
    "results['c2d']=func(results['b2c'])\n",
    "results_df = pd.DataFrame([results],columns=results.keys())"
   ]
  },
  {
   "cell_type": "code",
   "execution_count": 59,
   "metadata": {},
   "outputs": [
    {
     "data": {
      "text/html": [
       "<div>\n",
       "<style scoped>\n",
       "    .dataframe tbody tr th:only-of-type {\n",
       "        vertical-align: middle;\n",
       "    }\n",
       "\n",
       "    .dataframe tbody tr th {\n",
       "        vertical-align: top;\n",
       "    }\n",
       "\n",
       "    .dataframe thead th {\n",
       "        text-align: right;\n",
       "    }\n",
       "</style>\n",
       "<table border=\"1\" class=\"dataframe\">\n",
       "  <thead>\n",
       "    <tr style=\"text-align: right;\">\n",
       "      <th></th>\n",
       "      <th>a2b</th>\n",
       "      <th>b2c</th>\n",
       "      <th>c2d</th>\n",
       "    </tr>\n",
       "  </thead>\n",
       "  <tbody>\n",
       "    <tr>\n",
       "      <th>0</th>\n",
       "      <td>False</td>\n",
       "      <td>False</td>\n",
       "      <td>False</td>\n",
       "    </tr>\n",
       "  </tbody>\n",
       "</table>\n",
       "</div>"
      ],
      "text/plain": [
       "     a2b    b2c    c2d\n",
       "0  False  False  False"
      ]
     },
     "execution_count": 59,
     "metadata": {},
     "output_type": "execute_result"
    }
   ],
   "source": [
    "results_df"
   ]
  },
  {
   "cell_type": "code",
   "execution_count": 57,
   "metadata": {},
   "outputs": [
    {
     "data": {
      "text/html": [
       "<div>\n",
       "<style scoped>\n",
       "    .dataframe tbody tr th:only-of-type {\n",
       "        vertical-align: middle;\n",
       "    }\n",
       "\n",
       "    .dataframe tbody tr th {\n",
       "        vertical-align: top;\n",
       "    }\n",
       "\n",
       "    .dataframe thead th {\n",
       "        text-align: right;\n",
       "    }\n",
       "</style>\n",
       "<table border=\"1\" class=\"dataframe\">\n",
       "  <thead>\n",
       "    <tr style=\"text-align: right;\">\n",
       "      <th></th>\n",
       "      <th>a2b</th>\n",
       "      <th>b2c</th>\n",
       "      <th>c2d</th>\n",
       "    </tr>\n",
       "  </thead>\n",
       "  <tbody>\n",
       "    <tr>\n",
       "      <th>0</th>\n",
       "      <td>0.5</td>\n",
       "      <td>False</td>\n",
       "      <td>False</td>\n",
       "    </tr>\n",
       "  </tbody>\n",
       "</table>\n",
       "</div>"
      ],
      "text/plain": [
       "   a2b    b2c    c2d\n",
       "0  0.5  False  False"
      ]
     },
     "execution_count": 57,
     "metadata": {},
     "output_type": "execute_result"
    }
   ],
   "source": [
    "f"
   ]
  },
  {
   "cell_type": "code",
   "execution_count": 32,
   "metadata": {},
   "outputs": [
    {
     "data": {
      "text/plain": [
       "False"
      ]
     },
     "execution_count": 32,
     "metadata": {},
     "output_type": "execute_result"
    }
   ],
   "source": [
    "False > random.uniform(0,1)"
   ]
  },
  {
   "cell_type": "code",
   "execution_count": null,
   "metadata": {},
   "outputs": [],
   "source": [
    ">>> def foo(x): return x + 1\n"
   ]
  }
 ],
 "metadata": {
  "kernelspec": {
   "display_name": "Python 3",
   "language": "python",
   "name": "python3"
  },
  "language_info": {
   "codemirror_mode": {
    "name": "ipython",
    "version": 3
   },
   "file_extension": ".py",
   "mimetype": "text/x-python",
   "name": "python",
   "nbconvert_exporter": "python",
   "pygments_lexer": "ipython3",
   "version": "3.7.3"
  }
 },
 "nbformat": 4,
 "nbformat_minor": 2
}
