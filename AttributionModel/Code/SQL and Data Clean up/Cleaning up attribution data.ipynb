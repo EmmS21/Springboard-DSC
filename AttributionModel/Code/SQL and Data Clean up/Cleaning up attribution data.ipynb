{
 "cells": [
  {
   "cell_type": "code",
   "execution_count": 31,
   "metadata": {},
   "outputs": [],
   "source": [
    "import pandas as pd\n",
    "import numpy as np\n",
    "path = '/Users/emmanuels/Desktop/Attribution/thursdayattribution.csv'\n",
    "full_file = pd.read_csv(path,names=['uniques','anonymous_id','user_id','ts',\n",
    "                                    'url','path','referrer_domain','utm_campaign',\n",
    "                                    'utm_content','utm_medium','utm_source','user_agent','rank','state'])"
   ]
  },
  {
   "cell_type": "code",
   "execution_count": 43,
   "metadata": {},
   "outputs": [],
   "source": [
    "#everything with facebook tag, label as facebook utm_source\n",
    "full_file.loc[full_file['utm_source'].str.contains('facebook') == True,['utm_source']] = 'facebook'\n",
    "full_file.loc[full_file['referrer_domain'].str.contains('facebook') == True,['utm_source']] = 'facebook'\n",
    "full_file.loc[full_file['utm_source'] == 'adwords',['utm_source']] = 'google_ads'\n",
    "full_file.loc[full_file['utm_source'].str.contains('google') == True, ['utm_source']] = 'google_ads'\n",
    "full_file.loc[full_file['referrer_domain'].str.contains('doubleclick') == True, ['utm_source']] = 'google_ads'"
   ]
  },
  {
   "cell_type": "code",
   "execution_count": 34,
   "metadata": {},
   "outputs": [
    {
     "data": {
      "text/plain": [
       "array([nan, 'email', 'facebook', 'twitter', 'google_ads', 'gumtree',\n",
       "       'sms', 'salesforce', 'yoco_app_ios', 'autopilot', 'zendesk',\n",
       "       'guru', 'testing', 'yoco_app_android', 'intercom', 'yoco_receipt',\n",
       "       'igshopping', 'invitation', 'affiliates', 'drift', 'admarula',\n",
       "       'admarula_publishers', 'referral'], dtype=object)"
      ]
     },
     "execution_count": 34,
     "metadata": {},
     "output_type": "execute_result"
    }
   ],
   "source": [
    "full_file[['anonymous_id','user_id','ts','url','referrer_domain']]"
   ]
  },
  {
   "cell_type": "code",
   "execution_count": 45,
   "metadata": {},
   "outputs": [],
   "source": [
    "full_file.to_csv('/Users/emmanuels/Desktop/Attribution/finalcleanattributiondata.csv')"
   ]
  }
 ],
 "metadata": {
  "kernelspec": {
   "display_name": "Python 3",
   "language": "python",
   "name": "python3"
  },
  "language_info": {
   "codemirror_mode": {
    "name": "ipython",
    "version": 3
   },
   "file_extension": ".py",
   "mimetype": "text/x-python",
   "name": "python",
   "nbconvert_exporter": "python",
   "pygments_lexer": "ipython3",
   "version": "3.7.3"
  }
 },
 "nbformat": 4,
 "nbformat_minor": 2
}
