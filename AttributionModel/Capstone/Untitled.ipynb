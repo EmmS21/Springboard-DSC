{
 "cells": [
  {
   "cell_type": "code",
   "execution_count": null,
   "metadata": {},
   "outputs": [],
   "source": [
    "import pandas as pd\n",
    "import state_to_state_machine as ssm\n",
    "import luigi\n",
    "import random\n",
    "class compare(luigi.Task):\n",
    "    file_tag = luigi.Parameter()\n",
    "    ppltn_file = luigi.Parameter()\n",
    "    def run(self):\n",
    "        file_tag\n",
    "        monte_carlo = '/Users/emmanuels/Documents/AttributionData/Data/fullmcsims.csv'\n",
    "        sims = pd.read_csv(monte_carlo, index_col=0)\n",
    "        def func(sims, tag, col_name):\n",
    "            sims *= 1\n",
    "            path = '/Users/emmanuels/Documents/AttributionData/Data/Probabilities/'\n",
    "            actuals = pd.read_pickle(path + tag + '.pck')\n",
    "            y = np.linspace(start=stats.norm.ppf(0.1), stop=stats.norm.ppf(0.99), num=100)\n",
    "            fig, ax = plt.subplots()\n",
    "            ax.plot(y, actuals.pdf(y), linestyle='dashed', c='red', lw=2, alpha=0.8)\n",
    "            ax.set_title(tag + ' Stats v Actual comparison', fontsize=15)\n",
    "            # sims plot\n",
    "            ax_two = ax.twinx()\n",
    "            # simulations\n",
    "            ax_two = plt.hist(sims[col_name])\n",
    "            return fig.savefig(path + str(tag) + '.png')\n",
    "\n",
    "        for actual, cols in zip(files, sims_list):\n",
    "            #     print(val1,val2)\n",
    "            func(sims=sims, tag=str(actual), col_name=str(cols))\n",
    "\n"
   ]
  },
  {
   "cell_type": "code",
   "execution_count": 2,
   "metadata": {},
   "outputs": [],
   "source": [
    "import pandas as pd\n",
    "import matplotlib.pyplot as plt\n",
    "monte_carlo = '/Users/emmanuels/Documents/AttributionData/Data/fullmcsims.csv'\n",
    "sims = pd.read_csv(monte_carlo, index_col=0)"
   ]
  },
  {
   "cell_type": "code",
   "execution_count": 3,
   "metadata": {},
   "outputs": [],
   "source": [
    "def func(sims, tag, col_name):\n",
    "    sims *= 1\n",
    "    path = '/Users/emmanuels/Documents/AttributionData/Data/Probabilities/'\n",
    "    actuals = pd.read_pickle(path + tag + '.pck')\n",
    "    y = np.linspace(start=stats.norm.ppf(0.1), stop=stats.norm.ppf(0.99), num=100)\n",
    "    fig, ax = plt.subplots()\n",
    "    ax.plot(y, actuals.pdf(y), linestyle='dashed', c='red', lw=2, alpha=0.8)\n",
    "    ax.set_title(tag + ' Stats v Actual comparison', fontsize=15)\n",
    "    # sims plot\n",
    "    ax_two = ax.twinx()\n",
    "    # simulations\n",
    "    ax_two = plt.hist(sims[col_name])\n",
    "    return fig.savefig(path + str(tag) + '.png')"
   ]
  },
  {
   "cell_type": "code",
   "execution_count": 4,
   "metadata": {},
   "outputs": [
    {
     "ename": "NameError",
     "evalue": "name 'files' is not defined",
     "output_type": "error",
     "traceback": [
      "\u001b[0;31m---------------------------------------------------------------------------\u001b[0m",
      "\u001b[0;31mNameError\u001b[0m                                 Traceback (most recent call last)",
      "\u001b[0;32m<ipython-input-4-ed56b4332c8b>\u001b[0m in \u001b[0;36m<module>\u001b[0;34m\u001b[0m\n\u001b[0;32m----> 1\u001b[0;31m \u001b[0;32mfor\u001b[0m \u001b[0mactual\u001b[0m\u001b[0;34m,\u001b[0m \u001b[0mcols\u001b[0m \u001b[0;32min\u001b[0m \u001b[0mzip\u001b[0m\u001b[0;34m(\u001b[0m\u001b[0mfiles\u001b[0m\u001b[0;34m,\u001b[0m \u001b[0msims_list\u001b[0m\u001b[0;34m)\u001b[0m\u001b[0;34m:\u001b[0m\u001b[0;34m\u001b[0m\u001b[0;34m\u001b[0m\u001b[0m\n\u001b[0m\u001b[1;32m      2\u001b[0m             \u001b[0;31m#     print(val1,val2)\u001b[0m\u001b[0;34m\u001b[0m\u001b[0;34m\u001b[0m\u001b[0;34m\u001b[0m\u001b[0m\n\u001b[1;32m      3\u001b[0m         \u001b[0mfunc\u001b[0m\u001b[0;34m(\u001b[0m\u001b[0msims\u001b[0m\u001b[0;34m=\u001b[0m\u001b[0msims\u001b[0m\u001b[0;34m,\u001b[0m \u001b[0mtag\u001b[0m\u001b[0;34m=\u001b[0m\u001b[0mstr\u001b[0m\u001b[0;34m(\u001b[0m\u001b[0mactual\u001b[0m\u001b[0;34m)\u001b[0m\u001b[0;34m,\u001b[0m \u001b[0mcol_name\u001b[0m\u001b[0;34m=\u001b[0m\u001b[0mstr\u001b[0m\u001b[0;34m(\u001b[0m\u001b[0mcols\u001b[0m\u001b[0;34m)\u001b[0m\u001b[0;34m)\u001b[0m\u001b[0;34m\u001b[0m\u001b[0;34m\u001b[0m\u001b[0m\n",
      "\u001b[0;31mNameError\u001b[0m: name 'files' is not defined"
     ]
    }
   ],
   "source": [
    "for actual, cols in zip(files, sims_list):\n",
    "    func(sims=sims, tag=str(actual), col_name=str(cols))"
   ]
  },
  {
   "cell_type": "code",
   "execution_count": 5,
   "metadata": {},
   "outputs": [],
   "source": [
    "files = pd.read_csv(monte_carlo)"
   ]
  },
  {
   "cell_type": "code",
   "execution_count": 6,
   "metadata": {},
   "outputs": [
    {
     "data": {
      "text/html": [
       "<div>\n",
       "<style scoped>\n",
       "    .dataframe tbody tr th:only-of-type {\n",
       "        vertical-align: middle;\n",
       "    }\n",
       "\n",
       "    .dataframe tbody tr th {\n",
       "        vertical-align: top;\n",
       "    }\n",
       "\n",
       "    .dataframe thead th {\n",
       "        text-align: right;\n",
       "    }\n",
       "</style>\n",
       "<table border=\"1\" class=\"dataframe\">\n",
       "  <thead>\n",
       "    <tr style=\"text-align: right;\">\n",
       "      <th></th>\n",
       "      <th>Unnamed: 0</th>\n",
       "      <th>session_to_leads</th>\n",
       "      <th>lead_to_opps</th>\n",
       "      <th>oops_to_comp</th>\n",
       "    </tr>\n",
       "  </thead>\n",
       "  <tbody>\n",
       "    <tr>\n",
       "      <th>0</th>\n",
       "      <td>0</td>\n",
       "      <td>False</td>\n",
       "      <td>False</td>\n",
       "      <td>False</td>\n",
       "    </tr>\n",
       "    <tr>\n",
       "      <th>1</th>\n",
       "      <td>0</td>\n",
       "      <td>False</td>\n",
       "      <td>False</td>\n",
       "      <td>False</td>\n",
       "    </tr>\n",
       "    <tr>\n",
       "      <th>2</th>\n",
       "      <td>0</td>\n",
       "      <td>True</td>\n",
       "      <td>False</td>\n",
       "      <td>False</td>\n",
       "    </tr>\n",
       "    <tr>\n",
       "      <th>3</th>\n",
       "      <td>0</td>\n",
       "      <td>True</td>\n",
       "      <td>True</td>\n",
       "      <td>True</td>\n",
       "    </tr>\n",
       "    <tr>\n",
       "      <th>4</th>\n",
       "      <td>0</td>\n",
       "      <td>False</td>\n",
       "      <td>False</td>\n",
       "      <td>False</td>\n",
       "    </tr>\n",
       "  </tbody>\n",
       "</table>\n",
       "</div>"
      ],
      "text/plain": [
       "   Unnamed: 0  session_to_leads  lead_to_opps  oops_to_comp\n",
       "0           0             False         False         False\n",
       "1           0             False         False         False\n",
       "2           0              True         False         False\n",
       "3           0              True          True          True\n",
       "4           0             False         False         False"
      ]
     },
     "execution_count": 6,
     "metadata": {},
     "output_type": "execute_result"
    }
   ],
   "source": [
    "files.head()"
   ]
  },
  {
   "cell_type": "code",
   "execution_count": null,
   "metadata": {},
   "outputs": [],
   "source": []
  }
 ],
 "metadata": {
  "kernelspec": {
   "display_name": "Python 3",
   "language": "python",
   "name": "python3"
  },
  "language_info": {
   "codemirror_mode": {
    "name": "ipython",
    "version": 3
   },
   "file_extension": ".py",
   "mimetype": "text/x-python",
   "name": "python",
   "nbconvert_exporter": "python",
   "pygments_lexer": "ipython3",
   "version": "3.7.3"
  }
 },
 "nbformat": 4,
 "nbformat_minor": 2
}
