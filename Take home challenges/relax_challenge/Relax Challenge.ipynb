{
 "cells": [
  {
   "cell_type": "code",
   "execution_count": 40,
   "metadata": {},
   "outputs": [],
   "source": [
    "import pandas as pd\n",
    "path = 'C://Users//User//Documents//GitHub//Springboard-DSC\\\\Take home challenges\\\\relax_challenge\\\\takehome_users.csv'\n",
    "path_two = 'C://Users//User//Documents//GitHub//Springboard-DSC\\\\Take home challenges\\\\relax_challenge\\\\takehome_user_engagement.csv'\n",
    "takehome_users = pd.read_csv(path)\n",
    "takehome_engagement = pd.read_csv(path_two)"
   ]
  },
  {
   "cell_type": "code",
   "execution_count": 17,
   "metadata": {},
   "outputs": [],
   "source": [
    "takehome_engagement = takehome_engagement.reset_index()\n",
    "takehome_engagements = pd.melt(takehome_engagement,'time_stamp')"
   ]
  },
  {
   "cell_type": "code",
   "execution_count": 33,
   "metadata": {},
   "outputs": [],
   "source": [
    "engagement_wide = takehome_engagement.groupby('user_id')['time_stamp'].apply(list).apply(pd.Series)"
   ]
  },
  {
   "cell_type": "code",
   "execution_count": 76,
   "metadata": {},
   "outputs": [
    {
     "name": "stderr",
     "output_type": "stream",
     "text": [
      "C:\\Users\\User\\Anaconda3\\lib\\site-packages\\ipykernel_launcher.py:6: SettingWithCopyWarning: \n",
      "A value is trying to be set on a copy of a slice from a DataFrame.\n",
      "Try using .loc[row_indexer,col_indexer] = value instead\n",
      "\n",
      "See the caveats in the documentation: http://pandas.pydata.org/pandas-docs/stable/user_guide/indexing.html#returning-a-view-versus-a-copy\n",
      "  \n"
     ]
    }
   ],
   "source": [
    "takehome_engagement['time_stamp'] = pd.to_datetime(takehome_engagement['time_stamp'])\n",
    "#extract week number\n",
    "takehome_engagement['week'] = takehome_engagement['time_stamp'].dt.week\n",
    "grouped = takehome_engagement.groupby(['week','user_id'])['time_stamp'].count().reset_index(name='nums')\n",
    "users = grouped[grouped['nums'] >= 3]\n",
    "users['adopted_user'] = 'Yes'"
   ]
  },
  {
   "cell_type": "code",
   "execution_count": 77,
   "metadata": {},
   "outputs": [],
   "source": [
    "merged = takehome_users.merge(users[['user_id','adopted_user']],how='left',\n",
    "                         left_on='object_id', right_on='user_id')"
   ]
  },
  {
   "cell_type": "code",
   "execution_count": 106,
   "metadata": {},
   "outputs": [
    {
     "data": {
      "text/plain": [
       "array(['GUEST_INVITE', 'ORG_INVITE', 'SIGNUP', 'PERSONAL_PROJECTS',\n",
       "       'SIGNUP_GOOGLE_AUTH'], dtype=object)"
      ]
     },
     "execution_count": 106,
     "metadata": {},
     "output_type": "execute_result"
    }
   ],
   "source": [
    "merged.creation_source.unique()\n",
    "merged.loc[(merged['creation_source'] == 'GUEST_INVITE') 'creation_source'] = 1\n",
    "merged.loc[(merged['creation_source'] == 'ORG_INVITE') 'creation_source'] = 2\n",
    "merged.loc[(merged['creation_source'] == 'SIGNUP') 'creation_source'] = 3\n",
    "merged.loc[(merged['creation_source'] == 'PERSONAL_PROJECTS') 'creation_source'] = 4\n",
    "merged.loc[(merged['creation_source'] == 'SIGNUP_GOOGLE_AUTH') 'creation_source'] = 5\n",
    "#time delta between creation time and last login date\n",
    "merged['time_delta'] = (pd.to_datetime(merged['creation_time']) - pd.to_datetime(merged['last_session_creation_time'])).dt.days"
   ]
  },
  {
   "cell_type": "code",
   "execution_count": 101,
   "metadata": {},
   "outputs": [],
   "source": [
    "merged['adopted_user'] = merged['adopted_user'].fillna('No')\n",
    "#convere adopted user to numeric variable\n",
    "merged.loc[(merged['adopted_user'] == 'Yes'),'adopted'] = 1\n",
    "merged.loc[(merged['adopted_user'] == 'No'),'adopted'] = 0"
   ]
  },
  {
   "cell_type": "code",
   "execution_count": 122,
   "metadata": {},
   "outputs": [
    {
     "data": {
      "text/html": [
       "<div>\n",
       "<style scoped>\n",
       "    .dataframe tbody tr th:only-of-type {\n",
       "        vertical-align: middle;\n",
       "    }\n",
       "\n",
       "    .dataframe tbody tr th {\n",
       "        vertical-align: top;\n",
       "    }\n",
       "\n",
       "    .dataframe thead th {\n",
       "        text-align: right;\n",
       "    }\n",
       "</style>\n",
       "<table border=\"1\" class=\"dataframe\">\n",
       "  <thead>\n",
       "    <tr style=\"text-align: right;\">\n",
       "      <th></th>\n",
       "      <th>object_id</th>\n",
       "      <th>last_session_creation_time</th>\n",
       "      <th>opted_in_to_mailing_list</th>\n",
       "      <th>enabled_for_marketing_drip</th>\n",
       "      <th>org_id</th>\n",
       "      <th>invited_by_user_id</th>\n",
       "      <th>user_id</th>\n",
       "      <th>adopted</th>\n",
       "      <th>time_delta</th>\n",
       "    </tr>\n",
       "  </thead>\n",
       "  <tbody>\n",
       "    <tr>\n",
       "      <td>object_id</td>\n",
       "      <td>1.000000</td>\n",
       "      <td>-0.006096</td>\n",
       "      <td>-0.046270</td>\n",
       "      <td>-0.037062</td>\n",
       "      <td>-0.015767</td>\n",
       "      <td>0.100353</td>\n",
       "      <td>1.000000</td>\n",
       "      <td>-0.008067</td>\n",
       "      <td>0.015591</td>\n",
       "    </tr>\n",
       "    <tr>\n",
       "      <td>last_session_creation_time</td>\n",
       "      <td>-0.006096</td>\n",
       "      <td>1.000000</td>\n",
       "      <td>0.006148</td>\n",
       "      <td>-0.000075</td>\n",
       "      <td>0.066840</td>\n",
       "      <td>0.006375</td>\n",
       "      <td>-0.017179</td>\n",
       "      <td>0.732040</td>\n",
       "      <td>0.033120</td>\n",
       "    </tr>\n",
       "    <tr>\n",
       "      <td>opted_in_to_mailing_list</td>\n",
       "      <td>-0.046270</td>\n",
       "      <td>0.006148</td>\n",
       "      <td>1.000000</td>\n",
       "      <td>0.478601</td>\n",
       "      <td>-0.031263</td>\n",
       "      <td>0.022517</td>\n",
       "      <td>-0.050961</td>\n",
       "      <td>0.014749</td>\n",
       "      <td>0.016795</td>\n",
       "    </tr>\n",
       "    <tr>\n",
       "      <td>enabled_for_marketing_drip</td>\n",
       "      <td>-0.037062</td>\n",
       "      <td>-0.000075</td>\n",
       "      <td>0.478601</td>\n",
       "      <td>1.000000</td>\n",
       "      <td>-0.024446</td>\n",
       "      <td>0.016430</td>\n",
       "      <td>-0.042295</td>\n",
       "      <td>0.004916</td>\n",
       "      <td>-0.016038</td>\n",
       "    </tr>\n",
       "    <tr>\n",
       "      <td>org_id</td>\n",
       "      <td>-0.015767</td>\n",
       "      <td>0.066840</td>\n",
       "      <td>-0.031263</td>\n",
       "      <td>-0.024446</td>\n",
       "      <td>1.000000</td>\n",
       "      <td>-0.087800</td>\n",
       "      <td>-0.021849</td>\n",
       "      <td>0.089171</td>\n",
       "      <td>-0.046384</td>\n",
       "    </tr>\n",
       "    <tr>\n",
       "      <td>invited_by_user_id</td>\n",
       "      <td>0.100353</td>\n",
       "      <td>0.006375</td>\n",
       "      <td>0.022517</td>\n",
       "      <td>0.016430</td>\n",
       "      <td>-0.087800</td>\n",
       "      <td>1.000000</td>\n",
       "      <td>0.131333</td>\n",
       "      <td>0.002422</td>\n",
       "      <td>0.006724</td>\n",
       "    </tr>\n",
       "    <tr>\n",
       "      <td>user_id</td>\n",
       "      <td>1.000000</td>\n",
       "      <td>-0.017179</td>\n",
       "      <td>-0.050961</td>\n",
       "      <td>-0.042295</td>\n",
       "      <td>-0.021849</td>\n",
       "      <td>0.131333</td>\n",
       "      <td>1.000000</td>\n",
       "      <td>NaN</td>\n",
       "      <td>0.010578</td>\n",
       "    </tr>\n",
       "    <tr>\n",
       "      <td>adopted</td>\n",
       "      <td>-0.008067</td>\n",
       "      <td>0.732040</td>\n",
       "      <td>0.014749</td>\n",
       "      <td>0.004916</td>\n",
       "      <td>0.089171</td>\n",
       "      <td>0.002422</td>\n",
       "      <td>NaN</td>\n",
       "      <td>1.000000</td>\n",
       "      <td>-0.401994</td>\n",
       "    </tr>\n",
       "    <tr>\n",
       "      <td>time_delta</td>\n",
       "      <td>0.015591</td>\n",
       "      <td>0.033120</td>\n",
       "      <td>0.016795</td>\n",
       "      <td>-0.016038</td>\n",
       "      <td>-0.046384</td>\n",
       "      <td>0.006724</td>\n",
       "      <td>0.010578</td>\n",
       "      <td>-0.401994</td>\n",
       "      <td>1.000000</td>\n",
       "    </tr>\n",
       "  </tbody>\n",
       "</table>\n",
       "</div>"
      ],
      "text/plain": [
       "                            object_id  last_session_creation_time  \\\n",
       "object_id                    1.000000                   -0.006096   \n",
       "last_session_creation_time  -0.006096                    1.000000   \n",
       "opted_in_to_mailing_list    -0.046270                    0.006148   \n",
       "enabled_for_marketing_drip  -0.037062                   -0.000075   \n",
       "org_id                      -0.015767                    0.066840   \n",
       "invited_by_user_id           0.100353                    0.006375   \n",
       "user_id                      1.000000                   -0.017179   \n",
       "adopted                     -0.008067                    0.732040   \n",
       "time_delta                   0.015591                    0.033120   \n",
       "\n",
       "                            opted_in_to_mailing_list  \\\n",
       "object_id                                  -0.046270   \n",
       "last_session_creation_time                  0.006148   \n",
       "opted_in_to_mailing_list                    1.000000   \n",
       "enabled_for_marketing_drip                  0.478601   \n",
       "org_id                                     -0.031263   \n",
       "invited_by_user_id                          0.022517   \n",
       "user_id                                    -0.050961   \n",
       "adopted                                     0.014749   \n",
       "time_delta                                  0.016795   \n",
       "\n",
       "                            enabled_for_marketing_drip    org_id  \\\n",
       "object_id                                    -0.037062 -0.015767   \n",
       "last_session_creation_time                   -0.000075  0.066840   \n",
       "opted_in_to_mailing_list                      0.478601 -0.031263   \n",
       "enabled_for_marketing_drip                    1.000000 -0.024446   \n",
       "org_id                                       -0.024446  1.000000   \n",
       "invited_by_user_id                            0.016430 -0.087800   \n",
       "user_id                                      -0.042295 -0.021849   \n",
       "adopted                                       0.004916  0.089171   \n",
       "time_delta                                   -0.016038 -0.046384   \n",
       "\n",
       "                            invited_by_user_id   user_id   adopted  time_delta  \n",
       "object_id                             0.100353  1.000000 -0.008067    0.015591  \n",
       "last_session_creation_time            0.006375 -0.017179  0.732040    0.033120  \n",
       "opted_in_to_mailing_list              0.022517 -0.050961  0.014749    0.016795  \n",
       "enabled_for_marketing_drip            0.016430 -0.042295  0.004916   -0.016038  \n",
       "org_id                               -0.087800 -0.021849  0.089171   -0.046384  \n",
       "invited_by_user_id                    1.000000  0.131333  0.002422    0.006724  \n",
       "user_id                               0.131333  1.000000       NaN    0.010578  \n",
       "adopted                               0.002422       NaN  1.000000   -0.401994  \n",
       "time_delta                            0.006724  0.010578 -0.401994    1.000000  "
      ]
     },
     "execution_count": 122,
     "metadata": {},
     "output_type": "execute_result"
    }
   ],
   "source": [
    "merged.corr()"
   ]
  },
  {
   "cell_type": "markdown",
   "metadata": {},
   "source": [
    "#### Analysis\n",
    "\n",
    "From looking at the correlation matrix it would appear as though the numeric variable that is the biggest predicted of whether a user will convert to an adopted user is the time and date of their last login. This to me indicates that it might be interesting to create a new column that is delta between the time someone signed up and their last login. "
   ]
  },
  {
   "cell_type": "code",
   "execution_count": null,
   "metadata": {},
   "outputs": [],
   "source": []
  }
 ],
 "metadata": {
  "kernelspec": {
   "display_name": "Python 3",
   "language": "python",
   "name": "python3"
  },
  "language_info": {
   "codemirror_mode": {
    "name": "ipython",
    "version": 3
   },
   "file_extension": ".py",
   "mimetype": "text/x-python",
   "name": "python",
   "nbconvert_exporter": "python",
   "pygments_lexer": "ipython3",
   "version": "3.7.4"
  }
 },
 "nbformat": 4,
 "nbformat_minor": 2
}
